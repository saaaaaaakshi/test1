{
 "cells": [
  {
   "cell_type": "code",
   "execution_count": 2,
   "id": "5f78fd9d-671a-4357-8b4a-b515bc2e98f0",
   "metadata": {},
   "outputs": [],
   "source": [
    "#ans1\n",
    "a=\"sakshi\"\n",
    "b=[2,7.89,True,8,\"hey\",\"newlearner\"]\n",
    "c=9.78\n",
    "d=(7,8,6,2)"
   ]
  },
  {
   "cell_type": "code",
   "execution_count": null,
   "id": "64523fec-0207-4791-9971-fd89d222507e",
   "metadata": {},
   "outputs": [],
   "source": [
    "#ans2\n",
    "str\n",
    "str\n",
    "list \n",
    "float"
   ]
  },
  {
   "cell_type": "code",
   "execution_count": 3,
   "id": "ea4370d0-e56b-4d98-853f-8c72369830a7",
   "metadata": {},
   "outputs": [
    {
     "name": "stdout",
     "output_type": "stream",
     "text": [
      "4.0\n",
      "0\n",
      "4\n",
      "64\n"
     ]
    }
   ],
   "source": [
    "#ans3\n",
    "a=8\n",
    "b=2\n",
    "c=a/b\n",
    "#division operator used to divide and give float result\n",
    "d=a%b\n",
    "#give remainder as result\n",
    "e=a//b\n",
    "#floor division give integer resiult of division\n",
    "f=a**b\n",
    "#exponentiation operator gives power of number result\n",
    "print(c)\n",
    "print(d)\n",
    "print(e)\n",
    "print(f)"
   ]
  },
  {
   "cell_type": "code",
   "execution_count": 4,
   "id": "69dcf41f-ed57-4b1d-8130-d74bbc6601b6",
   "metadata": {},
   "outputs": [
    {
     "name": "stdout",
     "output_type": "stream",
     "text": [
      "2\n",
      "<class 'int'>\n",
      "4\n",
      "<class 'int'>\n",
      "7\n",
      "<class 'int'>\n",
      "10\n",
      "<class 'str'>\n",
      "4.78\n",
      "<class 'float'>\n",
      "python\n",
      "<class 'str'>\n",
      "True\n",
      "<class 'bool'>\n",
      "False\n",
      "<class 'bool'>\n",
      "5.66\n",
      "<class 'float'>\n",
      "hello\n",
      "<class 'str'>\n"
     ]
    }
   ],
   "source": [
    "#ans4\n",
    "l=[2,4,7,\"10\",4.78,\"python\",True,False,5.66,\"hello\"]\n",
    "for i in l:\n",
    "    print(i)\n",
    "    print(type(i))"
   ]
  },
  {
   "cell_type": "code",
   "execution_count": 5,
   "id": "652f191b-fa4e-4f2c-bc17-6d4d05fcbd53",
   "metadata": {},
   "outputs": [
    {
     "name": "stdout",
     "output_type": "stream",
     "text": [
      "5\n"
     ]
    }
   ],
   "source": [
    "#ans5\n",
    "A=20\n",
    "B=4\n",
    "c=0\n",
    "while A>0 :\n",
    "    if(A%B==0):\n",
    "        c+=1\n",
    "    A-=1\n",
    "print(c)"
   ]
  },
  {
   "cell_type": "code",
   "execution_count": 7,
   "id": "300d0ee8-b4cb-440a-a599-f2d95661af2d",
   "metadata": {},
   "outputs": [
    {
     "name": "stdout",
     "output_type": "stream",
     "text": [
      "0\n",
      "3\n",
      "6\n",
      "9\n",
      "12\n",
      "15\n",
      "18\n",
      "21\n",
      "24\n"
     ]
    }
   ],
   "source": [
    "#ans6\n",
    "l1=list(range(25))\n",
    "for i in l1:\n",
    "    if i%3==0:\n",
    "        print(i)\n",
    "    \n",
    "    "
   ]
  },
  {
   "cell_type": "code",
   "execution_count": 9,
   "id": "afdf983e-1f29-4b23-9e0f-c26a8c9c9ec1",
   "metadata": {},
   "outputs": [
    {
     "name": "stdout",
     "output_type": "stream",
     "text": [
      "<class 'str'>\n"
     ]
    }
   ],
   "source": [
    "#ans7\n",
    "#as we know strings are immutable and list are mutable\n",
    "#because lists allow to change the data at particular index\n",
    "l2=[3,\"sak\",6.54,True]\n",
    "l2[3]=\"3.68\"\n",
    "print(type(l2[3]))\n",
    "string1=\"sakshi\"\n",
    "#it will not allow to change the value at particular index"
   ]
  },
  {
   "cell_type": "code",
   "execution_count": null,
   "id": "33d35d8e-e97d-4cbb-a356-cdb3d1012a4a",
   "metadata": {},
   "outputs": [],
   "source": []
  },
  {
   "cell_type": "code",
   "execution_count": null,
   "id": "3707c0a8-87cf-4f48-8709-51876c585da8",
   "metadata": {},
   "outputs": [],
   "source": []
  }
 ],
 "metadata": {
  "kernelspec": {
   "display_name": "Python 3 (ipykernel)",
   "language": "python",
   "name": "python3"
  },
  "language_info": {
   "codemirror_mode": {
    "name": "ipython",
    "version": 3
   },
   "file_extension": ".py",
   "mimetype": "text/x-python",
   "name": "python",
   "nbconvert_exporter": "python",
   "pygments_lexer": "ipython3",
   "version": "3.10.8"
  }
 },
 "nbformat": 4,
 "nbformat_minor": 5
}
